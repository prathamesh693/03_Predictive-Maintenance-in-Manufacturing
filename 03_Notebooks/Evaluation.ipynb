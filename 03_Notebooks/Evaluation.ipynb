{
 "cells": [
  {
   "cell_type": "markdown",
   "id": "b1a0ea55-9ef3-49e2-a219-eb1c38c1c4d3",
   "metadata": {},
   "source": [
    "### **📊 Evaluation**"
   ]
  },
  {
   "cell_type": "markdown",
   "id": "cf7de301-1c93-4ce9-9b64-04f6d5c549c9",
   "metadata": {},
   "source": [
    "### **1. Import Libraries**"
   ]
  },
  {
   "cell_type": "code",
   "execution_count": 17,
   "id": "1c24ee42-5ced-4962-b7bd-207617bf4eb7",
   "metadata": {},
   "outputs": [],
   "source": [
    "import pandas as pd\n",
    "import joblib\n",
    "from sklearn.metrics import accuracy_score, classification_report, confusion_matrix\n",
    "import matplotlib.pyplot as plt\n",
    "import seaborn as sns\n",
    "from sklearn.model_selection import train_test_split"
   ]
  },
  {
   "cell_type": "markdown",
   "id": "75ae9196-242b-41ef-af69-17c617aaac08",
   "metadata": {},
   "source": [
    "### **2. Load the Preprocessed Data**"
   ]
  },
  {
   "cell_type": "code",
   "execution_count": 20,
   "id": "2ea2772a-7965-470b-8b43-cf2c16112723",
   "metadata": {},
   "outputs": [],
   "source": [
    "df = pd.read_csv(\"R:/Projects/1_Data_Science & ML_Projects/03_Predictive Maintenance in Manufacturing/02_Data/Preprocessed_data.csv\")"
   ]
  },
  {
   "cell_type": "markdown",
   "id": "30b6e91d-1329-471c-9d9d-480254ef3b51",
   "metadata": {},
   "source": [
    "### **3. Split features & Target**"
   ]
  },
  {
   "cell_type": "code",
   "execution_count": 26,
   "id": "2ffdf017-1a41-43a8-9b49-8830ca98ec68",
   "metadata": {},
   "outputs": [],
   "source": [
    "X = df.drop(columns=['Failure Type'])\n",
    "y = df['Failure Type']"
   ]
  },
  {
   "cell_type": "markdown",
   "id": "8079bf67-d9da-43a9-9b11-15e0094fee83",
   "metadata": {},
   "source": [
    "### **4. Split into Train and Test Sets**"
   ]
  },
  {
   "cell_type": "code",
   "execution_count": 28,
   "id": "1c163b49-c096-48a0-8cc5-19873ebecafc",
   "metadata": {},
   "outputs": [],
   "source": [
    "_, X_test, _, y_test = train_test_split(X, y, test_size=0.2, random_state=42)"
   ]
  },
  {
   "cell_type": "markdown",
   "id": "d5b7ed57-b6c5-44cd-94f9-7a5555ea180e",
   "metadata": {},
   "source": [
    "### **5. Train Random Forest Model**"
   ]
  },
  {
   "cell_type": "code",
   "execution_count": 30,
   "id": "3c334f62-137f-43ce-b843-2b74f837773a",
   "metadata": {},
   "outputs": [],
   "source": [
    "rf_model = joblib.load(\"R:/Projects/1_Data_Science & ML_Projects/03_Predictive Maintenance in Manufacturing/05_Models/RandomForest_model.pkl\")\n",
    "xgb_model = joblib.load(\"R:/Projects/1_Data_Science & ML_Projects/03_Predictive Maintenance in Manufacturing/05_Models/XGBoost_model.pkl\")"
   ]
  },
  {
   "cell_type": "markdown",
   "id": "365b8f2c-eeb4-4628-a48e-a76dd7e69a32",
   "metadata": {},
   "source": [
    "### **6. Train XGBoost Model**"
   ]
  },
  {
   "cell_type": "code",
   "execution_count": 32,
   "id": "ad5e3932-8c3b-45f2-a164-aeeacd2354ca",
   "metadata": {},
   "outputs": [
    {
     "name": "stdout",
     "output_type": "stream",
     "text": [
      "📌 Random Forest Results:\n",
      "Accuracy: 0.0\n",
      "Classification Report:\n",
      "               precision    recall  f1-score   support\n",
      "\n",
      "           0       0.00      0.00      0.00       0.0\n",
      "           1       0.00      0.00      0.00    1848.0\n",
      "           4       0.00      0.00      0.00       7.0\n",
      "\n",
      "    accuracy                           0.00    1855.0\n",
      "   macro avg       0.00      0.00      0.00    1855.0\n",
      "weighted avg       0.00      0.00      0.00    1855.0\n",
      "\n"
     ]
    },
    {
     "name": "stderr",
     "output_type": "stream",
     "text": [
      "C:\\Users\\ratho\\anaconda3\\Lib\\site-packages\\sklearn\\metrics\\_classification.py:1531: UndefinedMetricWarning: Precision is ill-defined and being set to 0.0 in labels with no predicted samples. Use `zero_division` parameter to control this behavior.\n",
      "  _warn_prf(average, modifier, f\"{metric.capitalize()} is\", len(result))\n",
      "C:\\Users\\ratho\\anaconda3\\Lib\\site-packages\\sklearn\\metrics\\_classification.py:1531: UndefinedMetricWarning: Recall is ill-defined and being set to 0.0 in labels with no true samples. Use `zero_division` parameter to control this behavior.\n",
      "  _warn_prf(average, modifier, f\"{metric.capitalize()} is\", len(result))\n",
      "C:\\Users\\ratho\\anaconda3\\Lib\\site-packages\\sklearn\\metrics\\_classification.py:1531: UndefinedMetricWarning: Precision is ill-defined and being set to 0.0 in labels with no predicted samples. Use `zero_division` parameter to control this behavior.\n",
      "  _warn_prf(average, modifier, f\"{metric.capitalize()} is\", len(result))\n",
      "C:\\Users\\ratho\\anaconda3\\Lib\\site-packages\\sklearn\\metrics\\_classification.py:1531: UndefinedMetricWarning: Recall is ill-defined and being set to 0.0 in labels with no true samples. Use `zero_division` parameter to control this behavior.\n",
      "  _warn_prf(average, modifier, f\"{metric.capitalize()} is\", len(result))\n",
      "C:\\Users\\ratho\\anaconda3\\Lib\\site-packages\\sklearn\\metrics\\_classification.py:1531: UndefinedMetricWarning: Precision is ill-defined and being set to 0.0 in labels with no predicted samples. Use `zero_division` parameter to control this behavior.\n",
      "  _warn_prf(average, modifier, f\"{metric.capitalize()} is\", len(result))\n",
      "C:\\Users\\ratho\\anaconda3\\Lib\\site-packages\\sklearn\\metrics\\_classification.py:1531: UndefinedMetricWarning: Recall is ill-defined and being set to 0.0 in labels with no true samples. Use `zero_division` parameter to control this behavior.\n",
      "  _warn_prf(average, modifier, f\"{metric.capitalize()} is\", len(result))\n"
     ]
    },
    {
     "data": {
      "image/png": "[encoded data removed]",
      "text/plain": [
       "<Figure size 500x400 with 2 Axes>"
      ]
     },
     "metadata": {},
     "output_type": "display_data"
    }
   ],
   "source": [
    "rf_pred = rf_model.predict(X_test)\n",
    "\n",
    "print(\"📌 Random Forest Results:\")\n",
    "print(\"Accuracy:\", accuracy_score(y_test, rf_pred))\n",
    "print(\"Classification Report:\\n\", classification_report(y_test, rf_pred))\n",
    "\n",
    "# Confusion Matrix\n",
    "plt.figure(figsize=(5, 4))\n",
    "sns.heatmap(confusion_matrix(y_test, rf_pred), annot=True, fmt='d', cmap='Blues')\n",
    "plt.title(\"Random Forest - Confusion Matrix\")\n",
    "plt.xlabel(\"Predicted\")\n",
    "plt.ylabel(\"Actual\")\n",
    "plt.show()"
   ]
  },
  {
   "cell_type": "markdown",
   "id": "1951a4fd-294a-4dda-ae25-d2e2b9940583",
   "metadata": {},
   "source": [
    "### **7. Evaluate XGBoost**"
   ]
  },
  {
   "cell_type": "code",
   "execution_count": 35,
   "id": "448a4a95-3b74-419c-887b-ed9d9483cd9f",
   "metadata": {},
   "outputs": [
    {
     "name": "stdout",
     "output_type": "stream",
     "text": [
      "📌 XGBoost Results:\n",
      "Accuracy: 0.0\n",
      "Classification Report:\n",
      "               precision    recall  f1-score   support\n",
      "\n",
      "           0       0.00      0.00      0.00       0.0\n",
      "           1       0.00      0.00      0.00    1848.0\n",
      "           4       0.00      0.00      0.00       7.0\n",
      "\n",
      "    accuracy                           0.00    1855.0\n",
      "   macro avg       0.00      0.00      0.00    1855.0\n",
      "weighted avg       0.00      0.00      0.00    1855.0\n",
      "\n"
     ]
    },
    {
     "name": "stderr",
     "output_type": "stream",
     "text": [
      "C:\\Users\\ratho\\anaconda3\\Lib\\site-packages\\sklearn\\metrics\\_classification.py:1531: UndefinedMetricWarning: Precision is ill-defined and being set to 0.0 in labels with no predicted samples. Use `zero_division` parameter to control this behavior.\n",
      "  _warn_prf(average, modifier, f\"{metric.capitalize()} is\", len(result))\n",
      "C:\\Users\\ratho\\anaconda3\\Lib\\site-packages\\sklearn\\metrics\\_classification.py:1531: UndefinedMetricWarning: Recall is ill-defined and being set to 0.0 in labels with no true samples. Use `zero_division` parameter to control this behavior.\n",
      "  _warn_prf(average, modifier, f\"{metric.capitalize()} is\", len(result))\n",
      "C:\\Users\\ratho\\anaconda3\\Lib\\site-packages\\sklearn\\metrics\\_classification.py:1531: UndefinedMetricWarning: Precision is ill-defined and being set to 0.0 in labels with no predicted samples. Use `zero_division` parameter to control this behavior.\n",
      "  _warn_prf(average, modifier, f\"{metric.capitalize()} is\", len(result))\n",
      "C:\\Users\\ratho\\anaconda3\\Lib\\site-packages\\sklearn\\metrics\\_classification.py:1531: UndefinedMetricWarning: Recall is ill-defined and being set to 0.0 in labels with no true samples. Use `zero_division` parameter to control this behavior.\n",
      "  _warn_prf(average, modifier, f\"{metric.capitalize()} is\", len(result))\n",
      "C:\\Users\\ratho\\anaconda3\\Lib\\site-packages\\sklearn\\metrics\\_classification.py:1531: UndefinedMetricWarning: Precision is ill-defined and being set to 0.0 in labels with no predicted samples. Use `zero_division` parameter to control this behavior.\n",
      "  _warn_prf(average, modifier, f\"{metric.capitalize()} is\", len(result))\n",
      "C:\\Users\\ratho\\anaconda3\\Lib\\site-packages\\sklearn\\metrics\\_classification.py:1531: UndefinedMetricWarning: Recall is ill-defined and being set to 0.0 in labels with no true samples. Use `zero_division` parameter to control this behavior.\n",
      "  _warn_prf(average, modifier, f\"{metric.capitalize()} is\", len(result))\n"
     ]
    },
    {
     "data": {
      "image/png": "[encoded data removed]",
      "text/plain": [
       "<Figure size 500x400 with 2 Axes>"
      ]
     },
     "metadata": {},
     "output_type": "display_data"
    }
   ],
   "source": [
    "xgb_pred = xgb_model.predict(X_test)\n",
    "\n",
    "print(\"📌 XGBoost Results:\")\n",
    "print(\"Accuracy:\", accuracy_score(y_test, xgb_pred))\n",
    "print(\"Classification Report:\\n\", classification_report(y_test, xgb_pred))\n",
    "\n",
    "# Confusion Matrix\n",
    "plt.figure(figsize=(5, 4))\n",
    "sns.heatmap(confusion_matrix(y_test, xgb_pred), annot=True, fmt='d', cmap='Greens')\n",
    "plt.title(\"XGBoost - Confusion Matrix\")\n",
    "plt.xlabel(\"Predicted\")\n",
    "plt.ylabel(\"Actual\")\n",
    "plt.show()"
   ]
  }
 ],
 "metadata": {
  "kernelspec": {
   "display_name": "Python 3 (ipykernel)",
   "language": "python",
   "name": "python3"
  },
  "language_info": {
   "codemirror_mode": {
    "name": "ipython",
    "version": 3
   },
   "file_extension": ".py",
   "mimetype": "text/x-python",
   "name": "python",
   "nbconvert_exporter": "python",
   "pygments_lexer": "ipython3",
   "version": "3.11.7"
  }
 },
 "nbformat": 4,
 "nbformat_minor": 5
}
